{
 "cells": [
  {
   "cell_type": "code",
   "execution_count": 2,
   "metadata": {},
   "outputs": [
    {
     "name": "stdout",
     "output_type": "stream",
     "text": [
      "Collecting opencv-python\n",
      "  Downloading opencv_python-3.3.0.10-cp36-cp36m-win_amd64.whl (39.7MB)\n",
      "Requirement already satisfied: numpy>=1.11.3 in c:\\users\\rames\\anaconda3\\lib\\site-packages (from opencv-python)\n",
      "Installing collected packages: opencv-python\n",
      "Successfully installed opencv-python-3.3.0.10\n"
     ]
    }
   ],
   "source": [
    "!pip install opencv-python"
   ]
  },
  {
   "cell_type": "code",
   "execution_count": 18,
   "metadata": {},
   "outputs": [],
   "source": [
    "import cv2\n",
    "import numpy as np\n",
    "\n",
    "def capture_and_sketch(image):\n",
    "    # Convert the captured image into a grayscale image\n",
    "    img_gray=cv2.cvtColor(image,cv2.COLOR_BGR2GRAY)\n",
    "    \n",
    "    # Cleanup the image off any blurs by applying a Gaussian function\n",
    "    img_gray_blur=cv2.GaussianBlur(img_gray, (5,5),0)\n",
    "    \n",
    "    # Extracting edges of the image\n",
    "    canny_edges=cv2.Canny(img_gray_blur,30,30)\n",
    "    \n",
    "    # Inverting the image and binarizing it\n",
    "    ret,mask =cv2.threshold(canny_edges, 0,255,cv2.THRESH_BINARY_INV)\n",
    "    return mask\n",
    "\n",
    "# Initializing Webcam\n",
    "webcam=cv2.VideoCapture(0)\n",
    "\n",
    "while True:\n",
    "    ret, frame=webcam.read()\n",
    "    cv2.imshow('Live Sketch', capture_and_sketch(frame))\n",
    "    if cv2.waitKey(1)==13: # Enter Key\n",
    "        break\n",
    "        \n",
    "webcam.release()\n",
    "cv2.destroyAllWindows()\n"
   ]
  },
  {
   "cell_type": "code",
   "execution_count": null,
   "metadata": {
    "collapsed": true
   },
   "outputs": [],
   "source": []
  }
 ],
 "metadata": {
  "kernelspec": {
   "display_name": "Python 3",
   "language": "python",
   "name": "python3"
  },
  "language_info": {
   "codemirror_mode": {
    "name": "ipython",
    "version": 3
   },
   "file_extension": ".py",
   "mimetype": "text/x-python",
   "name": "python",
   "nbconvert_exporter": "python",
   "pygments_lexer": "ipython3",
   "version": "3.6.2"
  }
 },
 "nbformat": 4,
 "nbformat_minor": 2
}
